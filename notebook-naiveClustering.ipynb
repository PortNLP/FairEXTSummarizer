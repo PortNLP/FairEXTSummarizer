{
 "cells": [
  {
   "cell_type": "code",
   "execution_count": 24,
   "id": "initial_id",
   "metadata": {
    "collapsed": true,
    "ExecuteTime": {
     "end_time": "2023-09-19T07:38:41.857698194Z",
     "start_time": "2023-09-19T07:38:41.273026214Z"
    }
   },
   "outputs": [],
   "source": [
    "import pandas as pd\n",
    "import os\n",
    "\n",
    "directory = 'input_docs/docs'\n",
    "file_list = os.listdir(directory)\n",
    "\n",
    "k = 5\n",
    "\n",
    "for i in range(1, k+1):\n",
    "    for file in file_list:\n",
    "        docs = pd.read_csv('input_docs/docs/' + file)\n",
    "        \n",
    "        docs_white = docs[docs['label'] == 'White']\n",
    "        docs_hisp = docs[docs['label'] == 'Hisp']\n",
    "        docs_aa = docs[docs['label'] == 'AA']\n",
    "    \n",
    "        naive_W_H = pd.concat((docs_white, docs_hisp)).sample(6)\n",
    "        naive_A_W = pd.concat((docs_aa, docs_white)).sample(6)\n",
    "        naive_H_A = pd.concat((docs_hisp, docs_aa)).sample(6)\n",
    "        \n",
    "        fair_W_H = pd.concat((docs_white.sample(3), docs_hisp.sample(3)))\n",
    "        fair_A_W = pd.concat((docs_aa.sample(3), docs_white.sample(3)))\n",
    "        fair_H_A = pd.concat((docs_hisp.sample(3), docs_aa.sample(3)))\n",
    "        \n",
    "        naive_W_H.to_csv(f'output_naive/W-H/{i}/{file}', index=False)\n",
    "        naive_A_W.to_csv(f'output_naive/A-W/{i}/{file}', index=False)\n",
    "        naive_H_A.to_csv(f'output_naive/H-A/{i}/{file}', index=False)\n",
    "    \n",
    "        fair_W_H.to_csv(f'output_naiveFair/W-H/{i}/{file}', index=False)\n",
    "        fair_A_W.to_csv(f'output_naiveFair/A-W/{i}/{file}', index=False)\n",
    "        fair_H_A.to_csv(f'output_naiveFair/H-A/{i}/{file}', index=False)"
   ]
  },
  {
   "cell_type": "code",
   "execution_count": null,
   "outputs": [],
   "source": [],
   "metadata": {
    "collapsed": false
   },
   "id": "19ce597dedc26a22"
  }
 ],
 "metadata": {
  "kernelspec": {
   "display_name": "Python 3",
   "language": "python",
   "name": "python3"
  },
  "language_info": {
   "codemirror_mode": {
    "name": "ipython",
    "version": 2
   },
   "file_extension": ".py",
   "mimetype": "text/x-python",
   "name": "python",
   "nbconvert_exporter": "python",
   "pygments_lexer": "ipython2",
   "version": "2.7.6"
  }
 },
 "nbformat": 4,
 "nbformat_minor": 5
}
